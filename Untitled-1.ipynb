{
 "cells": [
  {
   "attachments": {},
   "cell_type": "markdown",
   "metadata": {},
   "source": [
    "## REGRESION LINEAL"
   ]
  },
  {
<<<<<<< HEAD
   "attachments": {},
   "cell_type": "markdown",
   "metadata": {},
   "source": [
    " K.ADNC´ÑSDCM\n",
    "\n"
   ]
  },
  {
=======
>>>>>>> ec9393d90817103e61e991bafbcec0406be043c1
   "cell_type": "code",
   "execution_count": null,
   "metadata": {},
   "outputs": [],
   "source": []
  }
 ],
 "metadata": {
  "kernelspec": {
   "display_name": "base",
   "language": "python",
   "name": "python3"
  },
  "language_info": {
   "name": "python",
   "version": "3.7.4 (default, Aug  9 2019, 18:34:13) [MSC v.1915 64 bit (AMD64)]"
  },
  "orig_nbformat": 4,
  "vscode": {
   "interpreter": {
    "hash": "7bde7087b1a9d2103f52211224a8eaca5bfa8026c2f495a791bcfbe564decae8"
   }
  }
 },
 "nbformat": 4,
 "nbformat_minor": 2
}
